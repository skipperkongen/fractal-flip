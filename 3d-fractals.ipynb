{
 "cells": [
  {
   "cell_type": "code",
   "execution_count": 1,
   "id": "1399293a",
   "metadata": {},
   "outputs": [],
   "source": [
    "import plotly.express as px\n",
    "import numpy as np"
   ]
  },
  {
   "cell_type": "markdown",
   "id": "9e10f385",
   "metadata": {},
   "source": [
    "## Warmup"
   ]
  },
  {
   "cell_type": "markdown",
   "id": "b071a77c",
   "metadata": {},
   "source": [
    "### Using dataframe"
   ]
  },
  {
   "cell_type": "code",
   "execution_count": 2,
   "id": "adb02fd1",
   "metadata": {},
   "outputs": [],
   "source": [
    "#df = px.data.iris()\n",
    "#fig = px.scatter_3d(df, x='sepal_length', y='sepal_width', z='petal_width', color='species')\n",
    "#fig.update_traces(marker=dict(size=2, opacity=0.5))\n",
    "#fig.show()"
   ]
  },
  {
   "cell_type": "markdown",
   "id": "9ad34c3a",
   "metadata": {},
   "source": [
    "### Using array"
   ]
  },
  {
   "cell_type": "code",
   "execution_count": 3,
   "id": "c63f7787",
   "metadata": {},
   "outputs": [],
   "source": [
    "#ps = np.random.random((100,3))\n",
    "#fig = px.scatter_3d(x=ps[:,0], y=ps[:,1], z=ps[:,2])\n",
    "#fig.update_traces(marker=dict(size=2, opacity=0.5))\n",
    "#fig.show()"
   ]
  },
  {
   "cell_type": "markdown",
   "id": "8f6d10b3",
   "metadata": {},
   "source": [
    "## Fractals"
   ]
  },
  {
   "cell_type": "code",
   "execution_count": 4,
   "id": "eb8319ec",
   "metadata": {},
   "outputs": [],
   "source": [
    "def oneset3d(ps, wn=2, n=20000):\n",
    "    cur = ps[0]\n",
    "    for _ in range(n):\n",
    "        p = ps[np.random.choice(ps.shape[0], 1, replace=False), :][0]\n",
    "        cur = (1/wn)*cur + (1-(1/wn))*p\n",
    "        yield cur\n",
    "\n",
    "def fractal(ps, wn=2, n=50000):\n",
    "    fp = oneset3d(ps, n=n, wn=wn)\n",
    "    fp = np.array([[x,y,z] for x,y,z in fp])\n",
    "    fig = px.scatter_3d(x=fp[:,0], y=fp[:,1], z=fp[:,2])\n",
    "    fig.update_traces(marker=dict(size=2, opacity=0.05))\n",
    "    fig.show()"
   ]
  },
  {
   "cell_type": "code",
   "execution_count": 7,
   "id": "418735e6",
   "metadata": {},
   "outputs": [],
   "source": [
    "#ps = np.array([[0,0,0], [1,0,0], [0,1,0], [1,1,0], [0.5,0.5, 0.8]],)\n",
    "#for wn in range(2,5):\n",
    "#fractal(ps, wn=2, n=1000)"
   ]
  },
  {
   "cell_type": "code",
   "execution_count": 8,
   "id": "cc69dcbd",
   "metadata": {},
   "outputs": [],
   "source": [
    "#ps = np.array([[0,0,0], [1,0,0], [0,1,0], [1,1,0], [0,0,1], [1,0,1], [0,1,1], [1,1,1]])\n",
    "#for wn in range(2,5):\n",
    "#fractal(ps, wn=3, n=10000)"
   ]
  },
  {
   "cell_type": "code",
   "execution_count": 9,
   "id": "05a6933e",
   "metadata": {},
   "outputs": [],
   "source": [
    "#ps = np.array([[0,0,0], [1,0,0], [0,1,0], [1,1,0], [0,0,1], [1,0,1], [0,1,1], [1,1,1], [0.5, 0.5, 0.5]])\n",
    "#for wn in range(2,5):\n",
    "#fractal(ps, wn=3, n=10000)"
   ]
  },
  {
   "cell_type": "code",
   "execution_count": 10,
   "id": "c017420a",
   "metadata": {},
   "outputs": [],
   "source": [
    "#ps = np.array([[0,0,0], [1,0,0], [0,1,0], [1,1,0], [0,0,1], [1,0,1], [0,1,1], [1,1,1], [0.5, 0.5, 0.5]])\n",
    "#for wn in range(2,5):\n",
    "#fractal(ps, wn=np.pi, n=10000)"
   ]
  },
  {
   "cell_type": "code",
   "execution_count": null,
   "id": "94382aac",
   "metadata": {},
   "outputs": [],
   "source": []
  }
 ],
 "metadata": {
  "kernelspec": {
   "display_name": "Python 3 (ipykernel)",
   "language": "python",
   "name": "python3"
  },
  "language_info": {
   "codemirror_mode": {
    "name": "ipython",
    "version": 3
   },
   "file_extension": ".py",
   "mimetype": "text/x-python",
   "name": "python",
   "nbconvert_exporter": "python",
   "pygments_lexer": "ipython3",
   "version": "3.9.5"
  }
 },
 "nbformat": 4,
 "nbformat_minor": 5
}
